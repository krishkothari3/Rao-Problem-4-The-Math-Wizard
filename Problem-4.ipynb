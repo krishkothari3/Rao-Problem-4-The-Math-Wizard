{
 "cells": [
  {
   "cell_type": "code",
   "execution_count": 4,
   "id": "3581aec4",
   "metadata": {},
   "outputs": [],
   "source": [
    "from word2number import w2n"
   ]
  },
  {
   "cell_type": "code",
   "execution_count": 5,
   "id": "d6d7e9b7",
   "metadata": {},
   "outputs": [],
   "source": [
    "def Evaluate(a):\n",
    "    l = a.split()\n",
    "    b = \"\"\n",
    "    c = []\n",
    "    for i in l:\n",
    "        if(i==\"division\" or i==\"/\"):\n",
    "            c.append(w2n.word_to_num(b.strip()))\n",
    "            c.append(\"/\")\n",
    "            b = \"\"\n",
    "            continue\n",
    "        elif(i==\"+\" or i==\"plus\"):\n",
    "            c.append(w2n.word_to_num(b.strip()))\n",
    "            c.append(\"+\")\n",
    "            b = \"\"\n",
    "            continue\n",
    "        elif(i==\"-\" or i==\"substract\"):\n",
    "            c.append(w2n.word_to_num(b.strip()))\n",
    "            c.append(\"-\")\n",
    "            b = \"\"\n",
    "            continue\n",
    "        elif(i==\"*\" or i==\"multiple\"):\n",
    "            c.append(w2n.word_to_num(b.strip()))\n",
    "            c.append(\"*\")\n",
    "            b = \"\"\n",
    "            continue\n",
    "        elif(i==\"=\" or i==\"equals\"):\n",
    "            c.append(w2n.word_to_num(b.strip()))\n",
    "            c.append(\"=\")\n",
    "            b = \"\"\n",
    "            continue\n",
    "        b += i + \" \"\n",
    "    try:\n",
    "        float(b)\n",
    "        c.append(b)\n",
    "    except:\n",
    "        c.append(w2n.word_to_num(b.strip()))\n",
    "    main = \"\"\n",
    "    for i in c:\n",
    "        main += str(i)\n",
    "    main = main.strip()\n",
    "    testCase = main.split(\"=\")\n",
    "    if eval(testCase[0]) == float(testCase[1]):\n",
    "        return \"true\"\n",
    "    else:\n",
    "        return \"false\"\n",
    "smallInput = open(\"TMW_small.txt\",\"r\").readlines()\n",
    "smallInput = [s.rstrip(\"\\n\") for s in smallInput]\n",
    "smallOutput = open(\"SmallOutput.txt\",\"a\")\n",
    "for i in range(1,len(smallInput)):\n",
    "    smallOutput.write(Evaluate(smallInput[i]) + \"\\n\")\n",
    "smallOutput.close()"
   ]
  },
  {
   "cell_type": "code",
   "execution_count": 7,
   "id": "4f83827d",
   "metadata": {},
   "outputs": [],
   "source": [
    "largeInput = open(\"TMW_large.txt\",\"r\").readlines()\n",
    "largeInput = [s.rstrip(\"\\n\") for s in largeInput]\n",
    "largeOutput = open(\"LargeOutput.txt\",\"a\")\n",
    "for i in range(1,len(largeInput)):\n",
    "    largeOutput.write(Evaluate(largeInput[i]) + \"\\n\")\n",
    "largeOutput.close()"
   ]
  },
  {
   "cell_type": "code",
   "execution_count": null,
   "id": "9e9a548f",
   "metadata": {},
   "outputs": [],
   "source": []
  }
 ],
 "metadata": {
  "kernelspec": {
   "display_name": "Python 3 (ipykernel)",
   "language": "python",
   "name": "python3"
  },
  "language_info": {
   "codemirror_mode": {
    "name": "ipython",
    "version": 3
   },
   "file_extension": ".py",
   "mimetype": "text/x-python",
   "name": "python",
   "nbconvert_exporter": "python",
   "pygments_lexer": "ipython3",
   "version": "3.9.13"
  }
 },
 "nbformat": 4,
 "nbformat_minor": 5
}
